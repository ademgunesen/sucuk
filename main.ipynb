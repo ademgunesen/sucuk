{
 "cells": [
  {
   "cell_type": "code",
   "execution_count": 1,
   "metadata": {},
   "outputs": [
    {
     "name": "stderr",
     "output_type": "stream",
     "text": [
      "c:\\Users\\PC\\anaconda3\\envs\\seg\\lib\\site-packages\\tqdm\\auto.py:21: TqdmWarning: IProgress not found. Please update jupyter and ipywidgets. See https://ipywidgets.readthedocs.io/en/stable/user_install.html\n",
      "  from .autonotebook import tqdm as notebook_tqdm\n"
     ]
    }
   ],
   "source": [
    "from utils import *\n",
    "from train_test_val_initialize import *"
   ]
  },
  {
   "cell_type": "code",
   "execution_count": 2,
   "metadata": {},
   "outputs": [],
   "source": [
    "batch_size = 1\n",
    "decoder = \"UnetPlusPlus\"\n",
    "encoder=\"resnet152\"\n",
    "encoder_weight=\"imagenet\"\n",
    "train_image_dir=\"images/train/image\"\n",
    "train_mask_dir =\"images/train/mask\"\n",
    "val_image_dir=\"images/val/image\"\n",
    "val_mask_dir = \"images/val/mask\"\n",
    "test_image_dir = \"images/test/cropped_image\"\n",
    "test_mask_dir = \"images/test/mask/cropped_ma\"\n",
    "activation = \"sigmoid\"\n",
    "epoch = 20\n",
    "lr= 1e-4\n",
    "weight_decay= 1e-4\n",
    "\n",
    "device = \"cuda\"\n",
    "resolution = 0\n",
    "data = \"ma\"\n",
    "crop_size = 512\n",
    "stride =512\n",
    "\n",
    "\n",
    "\n",
    "#create_test_data(\"test_original\")\n",
    "#create_train_val_data(\"train_original\", 1)\n",
    "#initialize_crop_save(crop_size,stride)\n",
    "\n",
    "\n",
    "\n",
    "#delete_black_masks(\"images/train/cropped_image\",\"images/train/mask/cropped_ma\")\n",
    "\n",
    "\n",
    "\n"
   ]
  },
  {
   "cell_type": "code",
   "execution_count": 3,
   "metadata": {},
   "outputs": [
    {
     "name": "stderr",
     "output_type": "stream",
     "text": [
      "2023-12-02 15:18:57,215 - Get_model_and_data - INFO - Creating model with encoder=resnet152, encoder_weight=imagenet, decoder=UnetPlusPlus\n"
     ]
    }
   ],
   "source": [
    "\n",
    "model,train_loader= initialize_train_val(\n",
    "batch_size = batch_size,\n",
    "decoder =decoder,\n",
    "encoder =encoder,\n",
    "encoder_weight= encoder_weight,\n",
    "train_image_dir=train_image_dir,\n",
    "train_mask_dir =train_mask_dir ,\n",
    "resolution=resolution,\n",
    "activation = activation,data = data)"
   ]
  },
  {
   "cell_type": "code",
   "execution_count": 4,
   "metadata": {},
   "outputs": [],
   "source": [
    "test_loader  = get_test_data(encoder,\n",
    "              encoder_weight,\n",
    "              test_image_dir,\n",
    "              test_mask_dir,\n",
    "              resolution=0)"
   ]
  },
  {
   "cell_type": "code",
   "execution_count": 5,
   "metadata": {},
   "outputs": [
    {
     "name": "stderr",
     "output_type": "stream",
     "text": [
      "2023-12-02 15:18:58,741 - root - INFO - Epoch: 0\n",
      "2023-12-02 15:18:58,741 - root - INFO - Epoch: 0, Learning Rate: 0.0001\n"
     ]
    },
    {
     "name": "stdout",
     "output_type": "stream",
     "text": [
      "train:   0%|          | 0/1350 [00:01<?, ?it/s]\n"
     ]
    },
    {
     "ename": "AttributeError",
     "evalue": "'DiceLoss' object has no attribute '__name__'",
     "output_type": "error",
     "traceback": [
      "\u001b[1;31m---------------------------------------------------------------------------\u001b[0m",
      "\u001b[1;31mAttributeError\u001b[0m                            Traceback (most recent call last)",
      "\u001b[1;32mc:\\Users\\PC\\Desktop\\github\\Eye-Fundus-Lesion-Segmentation-with-Syntetic-Image-Generator\\main.ipynb Cell 5\u001b[0m line \u001b[0;36m1\n\u001b[1;32m----> <a href='vscode-notebook-cell:/c%3A/Users/PC/Desktop/github/Eye-Fundus-Lesion-Segmentation-with-Syntetic-Image-Generator/main.ipynb#W4sZmlsZQ%3D%3D?line=0'>1</a>\u001b[0m best_model,model_info_train,locate \u001b[39m=\u001b[39m train_validate(epoch \u001b[39m=\u001b[39;49m epoch,   \n\u001b[0;32m      <a href='vscode-notebook-cell:/c%3A/Users/PC/Desktop/github/Eye-Fundus-Lesion-Segmentation-with-Syntetic-Image-Generator/main.ipynb#W4sZmlsZQ%3D%3D?line=1'>2</a>\u001b[0m lr\u001b[39m=\u001b[39;49m lr,\n\u001b[0;32m      <a href='vscode-notebook-cell:/c%3A/Users/PC/Desktop/github/Eye-Fundus-Lesion-Segmentation-with-Syntetic-Image-Generator/main.ipynb#W4sZmlsZQ%3D%3D?line=2'>3</a>\u001b[0m weight_decay\u001b[39m=\u001b[39;49mweight_decay,\n\u001b[0;32m      <a href='vscode-notebook-cell:/c%3A/Users/PC/Desktop/github/Eye-Fundus-Lesion-Segmentation-with-Syntetic-Image-Generator/main.ipynb#W4sZmlsZQ%3D%3D?line=3'>4</a>\u001b[0m train_loader \u001b[39m=\u001b[39;49m train_loader,\n\u001b[0;32m      <a href='vscode-notebook-cell:/c%3A/Users/PC/Desktop/github/Eye-Fundus-Lesion-Segmentation-with-Syntetic-Image-Generator/main.ipynb#W4sZmlsZQ%3D%3D?line=4'>5</a>\u001b[0m valid_loader\u001b[39m=\u001b[39;49mtest_loader,\n\u001b[0;32m      <a href='vscode-notebook-cell:/c%3A/Users/PC/Desktop/github/Eye-Fundus-Lesion-Segmentation-with-Syntetic-Image-Generator/main.ipynb#W4sZmlsZQ%3D%3D?line=5'>6</a>\u001b[0m encoder\u001b[39m=\u001b[39;49mencoder,\n\u001b[0;32m      <a href='vscode-notebook-cell:/c%3A/Users/PC/Desktop/github/Eye-Fundus-Lesion-Segmentation-with-Syntetic-Image-Generator/main.ipynb#W4sZmlsZQ%3D%3D?line=6'>7</a>\u001b[0m model \u001b[39m=\u001b[39;49m model,\n\u001b[0;32m      <a href='vscode-notebook-cell:/c%3A/Users/PC/Desktop/github/Eye-Fundus-Lesion-Segmentation-with-Syntetic-Image-Generator/main.ipynb#W4sZmlsZQ%3D%3D?line=7'>8</a>\u001b[0m device \u001b[39m=\u001b[39;49m device)\n",
      "File \u001b[1;32mc:\\Users\\PC\\Desktop\\github\\Eye-Fundus-Lesion-Segmentation-with-Syntetic-Image-Generator\\train_test_val_initialize.py:99\u001b[0m, in \u001b[0;36mtrain_validate\u001b[1;34m(epoch, lr, weight_decay, model, device, train_loader, valid_loader, encoder)\u001b[0m\n\u001b[0;32m     95\u001b[0m \u001b[39m# Update the learning rate scheduler\u001b[39;00m\n\u001b[0;32m     97\u001b[0m plateau_scheduler\u001b[39m.\u001b[39mstep(max_iou_score)\n\u001b[1;32m---> 99\u001b[0m train_logs \u001b[39m=\u001b[39m train_epoch\u001b[39m.\u001b[39;49mrun(train_loader)\n\u001b[0;32m    100\u001b[0m valid_logs \u001b[39m=\u001b[39m valid_epoch\u001b[39m.\u001b[39mrun(valid_loader)\n\u001b[0;32m    102\u001b[0m \u001b[39mif\u001b[39;00m max_dice_loss \u001b[39m>\u001b[39m valid_logs[\u001b[39m'\u001b[39m\u001b[39miou_score\u001b[39m\u001b[39m'\u001b[39m]:\n",
      "File \u001b[1;32mc:\\Users\\PC\\anaconda3\\envs\\seg\\lib\\site-packages\\segmentation_models_pytorch\\utils\\train.py:56\u001b[0m, in \u001b[0;36mEpoch.run\u001b[1;34m(self, dataloader)\u001b[0m\n\u001b[0;32m     54\u001b[0m loss_value \u001b[39m=\u001b[39m loss\u001b[39m.\u001b[39mcpu()\u001b[39m.\u001b[39mdetach()\u001b[39m.\u001b[39mnumpy()\n\u001b[0;32m     55\u001b[0m loss_meter\u001b[39m.\u001b[39madd(loss_value)\n\u001b[1;32m---> 56\u001b[0m loss_logs \u001b[39m=\u001b[39m {\u001b[39mself\u001b[39;49m\u001b[39m.\u001b[39;49mloss\u001b[39m.\u001b[39;49m\u001b[39m__name__\u001b[39;49m: loss_meter\u001b[39m.\u001b[39mmean}\n\u001b[0;32m     57\u001b[0m logs\u001b[39m.\u001b[39mupdate(loss_logs)\n\u001b[0;32m     59\u001b[0m \u001b[39m# update metrics logs\u001b[39;00m\n",
      "File \u001b[1;32mc:\\Users\\PC\\anaconda3\\envs\\seg\\lib\\site-packages\\torch\\nn\\modules\\module.py:1695\u001b[0m, in \u001b[0;36mModule.__getattr__\u001b[1;34m(self, name)\u001b[0m\n\u001b[0;32m   1693\u001b[0m     \u001b[39mif\u001b[39;00m name \u001b[39min\u001b[39;00m modules:\n\u001b[0;32m   1694\u001b[0m         \u001b[39mreturn\u001b[39;00m modules[name]\n\u001b[1;32m-> 1695\u001b[0m \u001b[39mraise\u001b[39;00m \u001b[39mAttributeError\u001b[39;00m(\u001b[39mf\u001b[39m\u001b[39m\"\u001b[39m\u001b[39m'\u001b[39m\u001b[39m{\u001b[39;00m\u001b[39mtype\u001b[39m(\u001b[39mself\u001b[39m)\u001b[39m.\u001b[39m\u001b[39m__name__\u001b[39m\u001b[39m}\u001b[39;00m\u001b[39m'\u001b[39m\u001b[39m object has no attribute \u001b[39m\u001b[39m'\u001b[39m\u001b[39m{\u001b[39;00mname\u001b[39m}\u001b[39;00m\u001b[39m'\u001b[39m\u001b[39m\"\u001b[39m)\n",
      "\u001b[1;31mAttributeError\u001b[0m: 'DiceLoss' object has no attribute '__name__'"
     ]
    }
   ],
   "source": [
    "\n",
    "best_model,model_info_train,locate = train_validate(epoch = epoch,   \n",
    "lr= lr,\n",
    "weight_decay=weight_decay,\n",
    "train_loader = train_loader,\n",
    "valid_loader=test_loader,\n",
    "encoder=encoder,\n",
    "model = model,\n",
    "device = device)\n"
   ]
  },
  {
   "cell_type": "code",
   "execution_count": null,
   "metadata": {},
   "outputs": [],
   "source": [
    "\n",
    "model_info_initialize = initialize_model_info(batch_size=batch_size,\n",
    "encoder=encoder,\n",
    "resolution = resolution,\n",
    "data = data)"
   ]
  },
  {
   "cell_type": "code",
   "execution_count": null,
   "metadata": {},
   "outputs": [
    {
     "name": "stderr",
     "output_type": "stream",
     "text": [
      "2023-12-02 09:59:35,184 - root - INFO - Testing model: resnet152_2023_09-59-35\n",
      "2023-12-02 10:01:13,791 - root - INFO - Prediction and saving completed successfully.\n",
      "2023-12-02 10:01:23,855 - root - INFO - Merging cropped images completed successfully.\n",
      "2023-12-02 10:01:27,516 - root - INFO - Merging cropped arrays completed successfully.\n",
      "2023-12-02 10:01:30,009 - root - ERROR - An error occurred: '>' not supported between instances of 'NoneType' and 'int'\n"
     ]
    }
   ],
   "source": [
    "\n",
    "test_model(best_model=model,\n",
    "           encoder_weight=encoder_weight,\n",
    "           resolution=resolution,\n",
    "           device=device,\n",
    "           encoder=encoder,\n",
    "           model_info_train=model_info_train,\n",
    "           model_info_initialize=model_info_initialize,\n",
    "           cropped_res=crop_size,stride = stride,data = data,locate =locate)"
   ]
  }
 ],
 "metadata": {
  "kernelspec": {
   "display_name": "segmentation",
   "language": "python",
   "name": "python3"
  },
  "language_info": {
   "codemirror_mode": {
    "name": "ipython",
    "version": 3
   },
   "file_extension": ".py",
   "mimetype": "text/x-python",
   "name": "python",
   "nbconvert_exporter": "python",
   "pygments_lexer": "ipython3",
   "version": "3.9.18"
  }
 },
 "nbformat": 4,
 "nbformat_minor": 2
}
